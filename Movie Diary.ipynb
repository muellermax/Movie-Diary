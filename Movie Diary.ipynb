{
 "cells": [
  {
   "cell_type": "code",
   "execution_count": 46,
   "metadata": {},
   "outputs": [],
   "source": [
    "import pandas as pd\n",
    "from datetime import date\n",
    "\n",
    "\n",
    "class MovieDiary():\n",
    "    \n",
    "    def __init__(self):\n",
    "        \n",
    "        #self.movie = movie\n",
    "        self.new_movie = []\n",
    "        self.diary = pd.DataFrame(columns = ['date', 'movie', 'Where', 'Evaluation'])\n",
    "\n",
    "    def add_movie(self, movie, where, evaluation):\n",
    "        \n",
    "        try:\n",
    "            self.diary = pd.read_csv('my_movie_diary.csv')\n",
    "        \n",
    "            self.diary = self.diary.append({'date': date.today(), \n",
    "                                    'movie': movie,\n",
    "                                   'Where': where,\n",
    "                                   'Evaluation': evaluation}, ignore_index = True)\n",
    "        \n",
    "            self.diary.to_csv('my_movie_diary.csv', mode='a')\n",
    "\n",
    "        \n",
    "        except FileNotFoundError:\n",
    "            self.diary = self.diary.append({'date': date.today(), \n",
    "                                            'movie': movie,\n",
    "                                           'Where': where,\n",
    "                                           'Evaluation': evaluation}, ignore_index = True)\n",
    "        \n",
    "            self.diary.to_csv('my_movie_diary.csv')\n",
    "        \n",
    "        return self.diary\n",
    "    "
   ]
  },
  {
   "cell_type": "code",
   "execution_count": 48,
   "metadata": {},
   "outputs": [
    {
     "data": {
      "text/html": [
       "<div>\n",
       "<style scoped>\n",
       "    .dataframe tbody tr th:only-of-type {\n",
       "        vertical-align: middle;\n",
       "    }\n",
       "\n",
       "    .dataframe tbody tr th {\n",
       "        vertical-align: top;\n",
       "    }\n",
       "\n",
       "    .dataframe thead th {\n",
       "        text-align: right;\n",
       "    }\n",
       "</style>\n",
       "<table border=\"1\" class=\"dataframe\">\n",
       "  <thead>\n",
       "    <tr style=\"text-align: right;\">\n",
       "      <th></th>\n",
       "      <th>Unnamed: 0</th>\n",
       "      <th>date</th>\n",
       "      <th>movie</th>\n",
       "      <th>Where</th>\n",
       "      <th>Evaluation</th>\n",
       "    </tr>\n",
       "  </thead>\n",
       "  <tbody>\n",
       "    <tr>\n",
       "      <th>0</th>\n",
       "      <td>0.0</td>\n",
       "      <td>2020-05-19</td>\n",
       "      <td>Inglourious</td>\n",
       "      <td>Marienburger</td>\n",
       "      <td>99</td>\n",
       "    </tr>\n",
       "    <tr>\n",
       "      <th>1</th>\n",
       "      <td>NaN</td>\n",
       "      <td>2020-05-19</td>\n",
       "      <td>Inglourious Basterds</td>\n",
       "      <td>Marienburger</td>\n",
       "      <td>85</td>\n",
       "    </tr>\n",
       "  </tbody>\n",
       "</table>\n",
       "</div>"
      ],
      "text/plain": [
       "   Unnamed: 0        date                 movie         Where  Evaluation\n",
       "0         0.0  2020-05-19           Inglourious  Marienburger          99\n",
       "1         NaN  2020-05-19  Inglourious Basterds  Marienburger          85"
      ]
     },
     "execution_count": 48,
     "metadata": {},
     "output_type": "execute_result"
    }
   ],
   "source": [
    "my_diary = MovieDiary()\n",
    "\n",
    "#df = my_diary.add_movie('Inglourious', 'Marienburger', 99)\n",
    "df = my_diary.add_movie('Inglourious Basterds', 'Marienburger', 85)\n",
    "df"
   ]
  },
  {
   "cell_type": "code",
   "execution_count": null,
   "metadata": {},
   "outputs": [],
   "source": []
  }
 ],
 "metadata": {
  "kernelspec": {
   "display_name": "Python 3",
   "language": "python",
   "name": "python3"
  },
  "language_info": {
   "codemirror_mode": {
    "name": "ipython",
    "version": 3
   },
   "file_extension": ".py",
   "mimetype": "text/x-python",
   "name": "python",
   "nbconvert_exporter": "python",
   "pygments_lexer": "ipython3",
   "version": "3.7.6"
  }
 },
 "nbformat": 4,
 "nbformat_minor": 4
}
