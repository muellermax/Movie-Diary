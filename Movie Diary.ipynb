{
 "cells": [
  {
   "cell_type": "code",
   "execution_count": 16,
   "metadata": {},
   "outputs": [],
   "source": [
    "import pandas as pd\n",
    "from datetime import date\n",
    "\n",
    "\n",
    "class MovieDiary():\n",
    "    \n",
    "    def __init__(self):\n",
    "        \n",
    "        #self.movie = movie\n",
    "        self.new_movie = []\n",
    "        self.diary = pd.DataFrame(columns = ['date', 'title'])\n",
    "\n",
    "    def add_movie(self):\n",
    "        \n",
    "        if len(self.diary) == 0: \n",
    "            self.diary['date'] = today = date.today()\n",
    "        \n",
    "        \n",
    "        return self.diary\n",
    "        "
   ]
  },
  {
   "cell_type": "code",
   "execution_count": 15,
   "metadata": {},
   "outputs": [
    {
     "data": {
      "text/plain": [
       "0"
      ]
     },
     "execution_count": 15,
     "metadata": {},
     "output_type": "execute_result"
    }
   ],
   "source": [
    "my_diary = MovieDiary()\n",
    "\n",
    "df = my_diary.add_movie()\n",
    "len(df)"
   ]
  },
  {
   "cell_type": "code",
   "execution_count": null,
   "metadata": {},
   "outputs": [],
   "source": []
  }
 ],
 "metadata": {
  "kernelspec": {
   "display_name": "Python 3",
   "language": "python",
   "name": "python3"
  },
  "language_info": {
   "codemirror_mode": {
    "name": "ipython",
    "version": 3
   },
   "file_extension": ".py",
   "mimetype": "text/x-python",
   "name": "python",
   "nbconvert_exporter": "python",
   "pygments_lexer": "ipython3",
   "version": "3.7.6"
  }
 },
 "nbformat": 4,
 "nbformat_minor": 4
}
